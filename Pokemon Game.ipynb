{
 "cells": [
  {
   "cell_type": "code",
   "execution_count": 1,
   "id": "8e9b99e5",
   "metadata": {},
   "outputs": [],
   "source": [
    "#  create a pokemon\n",
    "# take a look at it\n",
    "# feed them to increase health\n",
    "# make them battle and decide for a winner"
   ]
  },
  {
   "cell_type": "code",
   "execution_count": 44,
   "id": "fffe3620",
   "metadata": {},
   "outputs": [],
   "source": [
    "class Pokemon:\n",
    "    def __init__(self,name,primary_type,max_hp):\n",
    "        self.name=name\n",
    "        self.primary_type=primary_type\n",
    "        self.max_hp=max_hp\n",
    "        self.hp=max_hp\n",
    "        \n",
    "    def __str__(self):\n",
    "        return f\"{self.name} ({self.primary_type}:{self.hp}//{self.max_hp})\"\n",
    "    \n",
    "    def feed(self):\n",
    "        if self.hp < self.max_hp:\n",
    "            self.hp+=1\n",
    "            print(f\"{self.name} has now {self.hp} HP.\")\n",
    "        else:\n",
    "            print(f\"{self.name} is full.\")\n",
    "    \n",
    "    def battle(self,other):\n",
    "        print('Battle',self.name,other.name)\n",
    "        result=self.typewheel(self.primary_type,other.primary_type)\n",
    "        print(f\"{self.name} fought {other.name} and the result is a {result} \")\n",
    "        \n",
    "    @staticmethod\n",
    "    def typewheel(type1,type2):\n",
    "            result ={0:'loose',1:'win',-1:'tie'}\n",
    "            #mapping between types and result conditions\n",
    "            game_map={'water':0,'fire':1,'grass':2}\n",
    "            # implement win-loose matrix\n",
    "            wl_matrix=[\n",
    "                [-1, 1, 0],  # water \n",
    "                [0, -1, 1],   # fire\n",
    "                [1, 0, -1],   # grass\n",
    "            ]\n",
    "            # declare winner\n",
    "            wl_result=wl_matrix[game_map[type1],game_map[type2]]\n",
    "            return result[wl_result]\n",
    "            "
   ]
  },
  {
   "cell_type": "code",
   "execution_count": 45,
   "id": "19f9e44f",
   "metadata": {},
   "outputs": [],
   "source": [
    " # water against water:tie(-1)  #water against fire:win(1)  #water against grass:loose(0) like rock papercissor"
   ]
  },
  {
   "cell_type": "code",
   "execution_count": 46,
   "id": "a0f2513b",
   "metadata": {},
   "outputs": [],
   "source": [
    "p=Pokemon('bulbasaur','grass',100)\n",
    "q=Pokemon('charmander','fire',100)\n",
    "r=Pokemon('Kulbasaur','grass',100)"
   ]
  },
  {
   "cell_type": "code",
   "execution_count": 47,
   "id": "27f5b1f7",
   "metadata": {},
   "outputs": [
    {
     "name": "stdout",
     "output_type": "stream",
     "text": [
      "Battle bulbasaur charmander\n"
     ]
    },
    {
     "ename": "TypeError",
     "evalue": "list indices must be integers or slices, not tuple",
     "output_type": "error",
     "traceback": [
      "\u001b[1;31m---------------------------------------------------------------------------\u001b[0m",
      "\u001b[1;31mTypeError\u001b[0m                                 Traceback (most recent call last)",
      "\u001b[1;32m~\\AppData\\Local\\Temp/ipykernel_6472/1301286397.py\u001b[0m in \u001b[0;36m<module>\u001b[1;34m\u001b[0m\n\u001b[1;32m----> 1\u001b[1;33m \u001b[0mp\u001b[0m\u001b[1;33m.\u001b[0m\u001b[0mbattle\u001b[0m\u001b[1;33m(\u001b[0m\u001b[0mq\u001b[0m\u001b[1;33m)\u001b[0m\u001b[1;33m\u001b[0m\u001b[1;33m\u001b[0m\u001b[0m\n\u001b[0m",
      "\u001b[1;32m~\\AppData\\Local\\Temp/ipykernel_6472/3958668142.py\u001b[0m in \u001b[0;36mbattle\u001b[1;34m(self, other)\u001b[0m\n\u001b[0;32m     18\u001b[0m     \u001b[1;32mdef\u001b[0m \u001b[0mbattle\u001b[0m\u001b[1;33m(\u001b[0m\u001b[0mself\u001b[0m\u001b[1;33m,\u001b[0m\u001b[0mother\u001b[0m\u001b[1;33m)\u001b[0m\u001b[1;33m:\u001b[0m\u001b[1;33m\u001b[0m\u001b[1;33m\u001b[0m\u001b[0m\n\u001b[0;32m     19\u001b[0m         \u001b[0mprint\u001b[0m\u001b[1;33m(\u001b[0m\u001b[1;34m'Battle'\u001b[0m\u001b[1;33m,\u001b[0m\u001b[0mself\u001b[0m\u001b[1;33m.\u001b[0m\u001b[0mname\u001b[0m\u001b[1;33m,\u001b[0m\u001b[0mother\u001b[0m\u001b[1;33m.\u001b[0m\u001b[0mname\u001b[0m\u001b[1;33m)\u001b[0m\u001b[1;33m\u001b[0m\u001b[1;33m\u001b[0m\u001b[0m\n\u001b[1;32m---> 20\u001b[1;33m         \u001b[0mresult\u001b[0m\u001b[1;33m=\u001b[0m\u001b[0mself\u001b[0m\u001b[1;33m.\u001b[0m\u001b[0mtypewheel\u001b[0m\u001b[1;33m(\u001b[0m\u001b[0mself\u001b[0m\u001b[1;33m.\u001b[0m\u001b[0mprimary_type\u001b[0m\u001b[1;33m,\u001b[0m\u001b[0mother\u001b[0m\u001b[1;33m.\u001b[0m\u001b[0mprimary_type\u001b[0m\u001b[1;33m)\u001b[0m\u001b[1;33m\u001b[0m\u001b[1;33m\u001b[0m\u001b[0m\n\u001b[0m\u001b[0;32m     21\u001b[0m         \u001b[0mprint\u001b[0m\u001b[1;33m(\u001b[0m\u001b[1;34mf\"{self.name} fought {other.name} and the result is a {result} \"\u001b[0m\u001b[1;33m)\u001b[0m\u001b[1;33m\u001b[0m\u001b[1;33m\u001b[0m\u001b[0m\n\u001b[0;32m     22\u001b[0m \u001b[1;33m\u001b[0m\u001b[0m\n",
      "\u001b[1;32m~\\AppData\\Local\\Temp/ipykernel_6472/3958668142.py\u001b[0m in \u001b[0;36mtypewheel\u001b[1;34m(type1, type2)\u001b[0m\n\u001b[0;32m     33\u001b[0m             ]\n\u001b[0;32m     34\u001b[0m             \u001b[1;31m# declare winner\u001b[0m\u001b[1;33m\u001b[0m\u001b[1;33m\u001b[0m\u001b[0m\n\u001b[1;32m---> 35\u001b[1;33m             \u001b[0mwl_result\u001b[0m\u001b[1;33m=\u001b[0m\u001b[0mwl_matrix\u001b[0m\u001b[1;33m[\u001b[0m\u001b[0mgame_map\u001b[0m\u001b[1;33m[\u001b[0m\u001b[0mtype1\u001b[0m\u001b[1;33m]\u001b[0m\u001b[1;33m,\u001b[0m\u001b[0mgame_map\u001b[0m\u001b[1;33m[\u001b[0m\u001b[0mtype2\u001b[0m\u001b[1;33m]\u001b[0m\u001b[1;33m]\u001b[0m\u001b[1;33m\u001b[0m\u001b[1;33m\u001b[0m\u001b[0m\n\u001b[0m\u001b[0;32m     36\u001b[0m             \u001b[1;32mreturn\u001b[0m \u001b[0mresult\u001b[0m\u001b[1;33m[\u001b[0m\u001b[0mwl_result\u001b[0m\u001b[1;33m]\u001b[0m\u001b[1;33m\u001b[0m\u001b[1;33m\u001b[0m\u001b[0m\n\u001b[0;32m     37\u001b[0m \u001b[1;33m\u001b[0m\u001b[0m\n",
      "\u001b[1;31mTypeError\u001b[0m: list indices must be integers or slices, not tuple"
     ]
    }
   ],
   "source": [
    "p.battle(q)"
   ]
  },
  {
   "cell_type": "code",
   "execution_count": 10,
   "id": "affa24b1",
   "metadata": {},
   "outputs": [
    {
     "ename": "NameError",
     "evalue": "name 'hp' is not defined",
     "output_type": "error",
     "traceback": [
      "\u001b[1;31m---------------------------------------------------------------------------\u001b[0m",
      "\u001b[1;31mNameError\u001b[0m                                 Traceback (most recent call last)",
      "\u001b[1;32m~\\AppData\\Local\\Temp/ipykernel_6472/3148251538.py\u001b[0m in \u001b[0;36m<module>\u001b[1;34m\u001b[0m\n\u001b[1;32m----> 1\u001b[1;33m \u001b[0mhp\u001b[0m\u001b[1;33m\u001b[0m\u001b[1;33m\u001b[0m\u001b[0m\n\u001b[0m",
      "\u001b[1;31mNameError\u001b[0m: name 'hp' is not defined"
     ]
    }
   ],
   "source": []
  },
  {
   "cell_type": "code",
   "execution_count": null,
   "id": "13c19101",
   "metadata": {},
   "outputs": [],
   "source": []
  },
  {
   "cell_type": "code",
   "execution_count": null,
   "id": "1160459c",
   "metadata": {},
   "outputs": [],
   "source": []
  },
  {
   "cell_type": "code",
   "execution_count": null,
   "id": "db57f6e2",
   "metadata": {},
   "outputs": [],
   "source": []
  },
  {
   "cell_type": "code",
   "execution_count": null,
   "id": "ad0b1d57",
   "metadata": {},
   "outputs": [],
   "source": []
  },
  {
   "cell_type": "code",
   "execution_count": null,
   "id": "8c93dbc1",
   "metadata": {},
   "outputs": [],
   "source": []
  },
  {
   "cell_type": "code",
   "execution_count": null,
   "id": "c3b3d235",
   "metadata": {},
   "outputs": [],
   "source": []
  },
  {
   "cell_type": "code",
   "execution_count": null,
   "id": "05512696",
   "metadata": {},
   "outputs": [],
   "source": []
  }
 ],
 "metadata": {
  "kernelspec": {
   "display_name": "Python 3 (ipykernel)",
   "language": "python",
   "name": "python3"
  },
  "language_info": {
   "codemirror_mode": {
    "name": "ipython",
    "version": 3
   },
   "file_extension": ".py",
   "mimetype": "text/x-python",
   "name": "python",
   "nbconvert_exporter": "python",
   "pygments_lexer": "ipython3",
   "version": "3.10.0"
  }
 },
 "nbformat": 4,
 "nbformat_minor": 5
}
