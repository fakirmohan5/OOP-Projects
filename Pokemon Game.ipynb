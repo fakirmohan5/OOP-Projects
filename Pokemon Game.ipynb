{
 "cells": [
  {
   "cell_type": "code",
   "execution_count": 1,
   "id": "c6b83095",
   "metadata": {},
   "outputs": [],
   "source": [
    "#  create a pokemon\n",
    "# take a look at it\n",
    "# feed them to increase health\n",
    "# make them battle and decide for a winner"
   ]
  },
  {
   "cell_type": "code",
   "execution_count": 2,
   "id": "d9cd4215",
   "metadata": {},
   "outputs": [],
   "source": [
    "class Pokemon:\n",
    "    def __init__(self,name,primary_type,max_hp):\n",
    "        self.name=name\n",
    "        self.primary_type=primary_type\n",
    "        self.max_hp=max_hp\n",
    "        self.hp=max_hp\n",
    "        \n",
    "    def __str__(self):\n",
    "        return f\"{self.name} ({self.primary_type}:{self.hp}//{self.max_hp})\"\n",
    "    \n",
    "    def feed(self):\n",
    "        if self.hp < self.max_hp:\n",
    "            self.hp+=1\n",
    "            print(f\"{self.name} has now {self.hp} HP.\")\n",
    "        else:\n",
    "            print(f\"{self.name} is full.\")\n",
    "    \n",
    "    def battle(self,other):\n",
    "        print('Battle',self.name,other.name)\n",
    "        result=self.typewheel(self.primary_type,other.primary_type)\n",
    "        print(f\"{self.name} fought {other.name} and the result is a {result} \")\n",
    "        \n",
    "    @staticmethod\n",
    "    def typewheel(type1,type2):\n",
    "            result ={0:'loose',1:'win',-1:'tie'}\n",
    "            #mapping between types and result conditions\n",
    "            game_map={'water':0,'fire':1,'grass':2}\n",
    "            # implement win-loose matrix\n",
    "            wl_matrix=[\n",
    "                [-1, 1, 0],  # water \n",
    "                [0, -1, 1],   # fire\n",
    "                [1, 0, -1],   # grass\n",
    "            ]\n",
    "            # declare winner\n",
    "            wl_result=wl_matrix[game_map[type1]][game_map[type2]]\n",
    "            return result[wl_result]\n",
    "            "
   ]
  },
  {
   "cell_type": "code",
   "execution_count": 3,
   "id": "03aecff7",
   "metadata": {},
   "outputs": [],
   "source": [
    " # water against water:tie(-1)  #water against fire:win(1)  #water against grass:loose(0) like rock papercissor"
   ]
  },
  {
   "cell_type": "code",
   "execution_count": 4,
   "id": "a8860524",
   "metadata": {},
   "outputs": [],
   "source": [
    "p=Pokemon('bulbasaur','grass',100)\n",
    "q=Pokemon('charmander','fire',100)\n",
    "r=Pokemon('Kulbasaur','grass',100)"
   ]
  },
  {
   "cell_type": "code",
   "execution_count": 5,
   "id": "ddb8394d",
   "metadata": {},
   "outputs": [
    {
     "name": "stdout",
     "output_type": "stream",
     "text": [
      "Battle bulbasaur charmander\n",
      "bulbasaur fought charmander and the result is a loose \n"
     ]
    }
   ],
   "source": [
    "p.battle(q)"
   ]
  },
  {
   "cell_type": "code",
   "execution_count": 6,
   "id": "c25b2a23",
   "metadata": {},
   "outputs": [
    {
     "name": "stdout",
     "output_type": "stream",
     "text": [
      "Battle bulbasaur Kulbasaur\n",
      "bulbasaur fought Kulbasaur and the result is a tie \n"
     ]
    }
   ],
   "source": [
    "p.battle(r)"
   ]
  }
 ],
 "metadata": {
  "kernelspec": {
   "display_name": "Python 3 (ipykernel)",
   "language": "python",
   "name": "python3"
  },
  "language_info": {
   "codemirror_mode": {
    "name": "ipython",
    "version": 3
   },
   "file_extension": ".py",
   "mimetype": "text/x-python",
   "name": "python",
   "nbconvert_exporter": "python",
   "pygments_lexer": "ipython3",
   "version": "3.10.0"
  }
 },
 "nbformat": 4,
 "nbformat_minor": 5
}
