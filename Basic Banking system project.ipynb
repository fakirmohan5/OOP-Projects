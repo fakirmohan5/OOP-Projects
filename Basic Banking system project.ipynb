{
 "cells": [
  {
   "cell_type": "code",
   "execution_count": 1,
   "id": "5efe1d4e",
   "metadata": {},
   "outputs": [],
   "source": [
    "# banking system using OOP\n",
    "\n",
    "# parent class: user\n",
    "# holds details about an user\n",
    "# has a function to show user details\n",
    "\n",
    "# child class: bank\n",
    "# stores details about the account balances\n",
    "# stores details about the amount\n",
    "# allows for deposits,withdraw , view balances"
   ]
  },
  {
   "cell_type": "code",
   "execution_count": 2,
   "id": "1a2b9bc4",
   "metadata": {},
   "outputs": [],
   "source": [
    "class User:\n",
    "    def __init__(self,name,age,gender):\n",
    "        self.name=name\n",
    "        self.age=age\n",
    "        self.gender=gender\n",
    "    def show_details(self):\n",
    "        print(\"Personal details\")\n",
    "        print(\"\")\n",
    "        print(\"Name\",self.name)\n",
    "        print(\"Age\",self.age)\n",
    "        print(\"Gender\",self.gender)"
   ]
  },
  {
   "cell_type": "code",
   "execution_count": 5,
   "id": "3348aea9",
   "metadata": {},
   "outputs": [],
   "source": [
    "fmp=User('fmp',23,'M')"
   ]
  },
  {
   "cell_type": "code",
   "execution_count": 7,
   "id": "27cb9bea",
   "metadata": {},
   "outputs": [
    {
     "name": "stdout",
     "output_type": "stream",
     "text": [
      "Personal details\n",
      "\n",
      "Name fmp\n",
      "Age 23\n",
      "Gender M\n"
     ]
    }
   ],
   "source": [
    "fmp.show_details()"
   ]
  },
  {
   "cell_type": "code",
   "execution_count": 28,
   "id": "ef390e9f",
   "metadata": {},
   "outputs": [],
   "source": [
    "class Bank(User):\n",
    "    def __init__(self,name,age,gender):\n",
    "        super().__init__(name,age,gender)\n",
    "        self.balance=0\n",
    "        \n",
    "    def deposit(self,amount):\n",
    "        self.amount=amount\n",
    "        self.balance=self.balance+self.amount\n",
    "        print('Account balance has been updated : ₹',self.balance)\n",
    "        \n",
    "    def withdrawl(self,amount):\n",
    "        self.amount=amount\n",
    "        if self.amount > self.balance:\n",
    "            print('Insufficient Funds : Balance available : ₹' ,self.balance)\n",
    "        else:\n",
    "            self.balance=self.balance-self.amount\n",
    "            print('Account balance has been updated : ₹',self.balance)\n",
    "    def View_balance(self):\n",
    "        self.show_details()\n",
    "        print('Account balance : ₹',self.balance)\n",
    "            "
   ]
  },
  {
   "cell_type": "code",
   "execution_count": 29,
   "id": "67f042a1",
   "metadata": {},
   "outputs": [],
   "source": [
    "fmp1=Bank('fmp1',24,'F')"
   ]
  },
  {
   "cell_type": "code",
   "execution_count": 11,
   "id": "8d3f153e",
   "metadata": {},
   "outputs": [
    {
     "name": "stdout",
     "output_type": "stream",
     "text": [
      "Personal details\n",
      "\n",
      "Name fmp1\n",
      "Age 24\n",
      "Gender F\n"
     ]
    }
   ],
   "source": [
    "fmp1.show_details()"
   ]
  },
  {
   "cell_type": "code",
   "execution_count": 31,
   "id": "c28d028f",
   "metadata": {},
   "outputs": [
    {
     "name": "stdout",
     "output_type": "stream",
     "text": [
      "Account balance has been updated : ₹ 400\n"
     ]
    }
   ],
   "source": [
    "fmp1.deposit(400)"
   ]
  },
  {
   "cell_type": "code",
   "execution_count": 32,
   "id": "3a6914b0",
   "metadata": {},
   "outputs": [
    {
     "name": "stdout",
     "output_type": "stream",
     "text": [
      "Account balance has been updated : ₹ 900\n"
     ]
    }
   ],
   "source": [
    "fmp1.deposit(500)"
   ]
  },
  {
   "cell_type": "code",
   "execution_count": 33,
   "id": "646f080d",
   "metadata": {},
   "outputs": [
    {
     "name": "stdout",
     "output_type": "stream",
     "text": [
      "Account balance has been updated : ₹ 10900\n"
     ]
    }
   ],
   "source": [
    "fmp1.deposit(10000)"
   ]
  },
  {
   "cell_type": "code",
   "execution_count": 34,
   "id": "8a53ad90",
   "metadata": {},
   "outputs": [
    {
     "name": "stdout",
     "output_type": "stream",
     "text": [
      "Account balance has been updated : ₹ 1900\n"
     ]
    }
   ],
   "source": [
    "fmp1.withdrawl(9000)"
   ]
  },
  {
   "cell_type": "code",
   "execution_count": 35,
   "id": "7be73bfc",
   "metadata": {},
   "outputs": [
    {
     "name": "stdout",
     "output_type": "stream",
     "text": [
      "Insufficient Funds : Balance available : ₹ 1900\n"
     ]
    }
   ],
   "source": [
    "fmp1.withdrawl(2000)"
   ]
  },
  {
   "cell_type": "code",
   "execution_count": 36,
   "id": "fdb2f8bb",
   "metadata": {},
   "outputs": [
    {
     "name": "stdout",
     "output_type": "stream",
     "text": [
      "Personal details\n",
      "\n",
      "Name fmp1\n",
      "Age 24\n",
      "Gender F\n",
      "Account balance : ₹ 1900\n"
     ]
    }
   ],
   "source": [
    "fmp1.View_balance()"
   ]
  },
  {
   "cell_type": "code",
   "execution_count": null,
   "id": "22062707",
   "metadata": {},
   "outputs": [],
   "source": []
  }
 ],
 "metadata": {
  "kernelspec": {
   "display_name": "Python 3 (ipykernel)",
   "language": "python",
   "name": "python3"
  },
  "language_info": {
   "codemirror_mode": {
    "name": "ipython",
    "version": 3
   },
   "file_extension": ".py",
   "mimetype": "text/x-python",
   "name": "python",
   "nbconvert_exporter": "python",
   "pygments_lexer": "ipython3",
   "version": "3.10.0"
  }
 },
 "nbformat": 4,
 "nbformat_minor": 5
}
