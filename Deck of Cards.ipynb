{
 "cells": [
  {
   "cell_type": "code",
   "execution_count": 1,
   "id": "e76c683e",
   "metadata": {},
   "outputs": [],
   "source": [
    "import random"
   ]
  },
  {
   "cell_type": "code",
   "execution_count": 2,
   "id": "c9327c76",
   "metadata": {},
   "outputs": [],
   "source": [
    "class Card():\n",
    "    def __init__(self,suit,value):\n",
    "        self.suit=suit\n",
    "        self.value=value\n",
    "        \n",
    "    def show(self):\n",
    "        print (self.value,'of',self.suit)         "
   ]
  },
  {
   "cell_type": "code",
   "execution_count": 3,
   "id": "240664a1",
   "metadata": {},
   "outputs": [],
   "source": [
    "card=Card('club',8)"
   ]
  },
  {
   "cell_type": "code",
   "execution_count": 4,
   "id": "54bd8bd2",
   "metadata": {},
   "outputs": [
    {
     "name": "stdout",
     "output_type": "stream",
     "text": [
      "8 of club\n"
     ]
    }
   ],
   "source": [
    "card.show()"
   ]
  },
  {
   "cell_type": "code",
   "execution_count": 5,
   "id": "f40ed504",
   "metadata": {},
   "outputs": [],
   "source": [
    "class Deck():\n",
    "    def __init__(self):\n",
    "        self.cards=[]\n",
    "        self.build()\n",
    "        \n",
    "    def build(self):\n",
    "        for s in [\"Spades\",\"Clubs\",\"Diamonds\",\"Hearts\"]:\n",
    "            for v in range(1,14):\n",
    "                #print (v ,'of', s)\n",
    "                self.cards.append(Card(s,v))\n",
    "    \n",
    "    def show(self):\n",
    "        for c in self.cards:\n",
    "            c.show()\n",
    "            \n",
    "    def shuffle(self):       # fischer yate algo\n",
    "        for i in range(len(self.cards)-1,0,-1):\n",
    "            r=random.randint(0,i)              # starting at the right, so choosing integer left of our position\n",
    "            self.cards[i],self.cards[r]=self.cards[r],self.cards[i]\n",
    "    def drawCard(self):\n",
    "        return self.cards.pop()\n"
   ]
  },
  {
   "cell_type": "code",
   "execution_count": 6,
   "id": "4d3e90c3",
   "metadata": {},
   "outputs": [],
   "source": [
    "deck=Deck()"
   ]
  },
  {
   "cell_type": "code",
   "execution_count": 7,
   "id": "891fee59",
   "metadata": {},
   "outputs": [
    {
     "name": "stdout",
     "output_type": "stream",
     "text": [
      "7 of Clubs\n"
     ]
    }
   ],
   "source": [
    "deck.shuffle()\n",
    "card=deck.drawCard()\n",
    "card.show()   # see if the shfffling is working or not"
   ]
  },
  {
   "cell_type": "code",
   "execution_count": 8,
   "id": "48951204",
   "metadata": {},
   "outputs": [],
   "source": [
    "class player:\n",
    "    def __init__(self,name):\n",
    "        self.name=name\n",
    "        self.hand=[]\n",
    "        \n",
    "    def draw(self,deck):\n",
    "        self.hand.append(deck.drawCard())\n",
    "    def showHand(self):\n",
    "        for card in self.hand:\n",
    "            card.show()       "
   ]
  },
  {
   "cell_type": "code",
   "execution_count": 9,
   "id": "6991b5c1",
   "metadata": {},
   "outputs": [],
   "source": [
    "bob=player('Bob')"
   ]
  },
  {
   "cell_type": "code",
   "execution_count": 10,
   "id": "8e878dac",
   "metadata": {},
   "outputs": [],
   "source": [
    "bob.draw(deck)"
   ]
  },
  {
   "cell_type": "code",
   "execution_count": 11,
   "id": "678b6463",
   "metadata": {},
   "outputs": [
    {
     "name": "stdout",
     "output_type": "stream",
     "text": [
      "9 of Hearts\n"
     ]
    }
   ],
   "source": [
    "bob.showHand()"
   ]
  },
  {
   "cell_type": "code",
   "execution_count": null,
   "id": "393bdabe",
   "metadata": {},
   "outputs": [],
   "source": []
  }
 ],
 "metadata": {
  "kernelspec": {
   "display_name": "Python 3 (ipykernel)",
   "language": "python",
   "name": "python3"
  },
  "language_info": {
   "codemirror_mode": {
    "name": "ipython",
    "version": 3
   },
   "file_extension": ".py",
   "mimetype": "text/x-python",
   "name": "python",
   "nbconvert_exporter": "python",
   "pygments_lexer": "ipython3",
   "version": "3.10.0"
  }
 },
 "nbformat": 4,
 "nbformat_minor": 5
}
